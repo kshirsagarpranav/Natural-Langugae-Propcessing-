{
  "nbformat": 4,
  "nbformat_minor": 0,
  "metadata": {
    "colab": {
      "provenance": []
    },
    "kernelspec": {
      "name": "python3",
      "display_name": "Python 3"
    },
    "language_info": {
      "name": "python"
    }
  },
  "cells": [
    {
      "cell_type": "code",
      "execution_count": null,
      "metadata": {
        "colab": {
          "base_uri": "https://localhost:8080/"
        },
        "id": "kbdLx1vAPJTA",
        "outputId": "14869d07-54b6-46a6-b84b-62c8d5da0a54"
      },
      "outputs": [
        {
          "output_type": "stream",
          "name": "stdout",
          "text": [
            "Collecting pyspark\n",
            "  Downloading pyspark-3.4.1.tar.gz (310.8 MB)\n",
            "\u001b[2K     \u001b[90m━━━━━━━━━━━━━━━━━━━━━━━━━━━━━━━━━━━━━━━\u001b[0m \u001b[32m310.8/310.8 MB\u001b[0m \u001b[31m3.2 MB/s\u001b[0m eta \u001b[36m0:00:00\u001b[0m\n",
            "\u001b[?25h  Preparing metadata (setup.py) ... \u001b[?25l\u001b[?25hdone\n",
            "Requirement already satisfied: py4j==0.10.9.7 in /usr/local/lib/python3.10/dist-packages (from pyspark) (0.10.9.7)\n",
            "Building wheels for collected packages: pyspark\n",
            "  Building wheel for pyspark (setup.py) ... \u001b[?25l\u001b[?25hdone\n",
            "  Created wheel for pyspark: filename=pyspark-3.4.1-py2.py3-none-any.whl size=311285387 sha256=3bf40ba4b667447142b829660b000003bcbffb62fd88bd251a1c7918d3b8a283\n",
            "  Stored in directory: /root/.cache/pip/wheels/0d/77/a3/ff2f74cc9ab41f8f594dabf0579c2a7c6de920d584206e0834\n",
            "Successfully built pyspark\n",
            "Installing collected packages: pyspark\n",
            "Successfully installed pyspark-3.4.1\n"
          ]
        }
      ],
      "source": [
        "!pip install pyspark"
      ]
    },
    {
      "cell_type": "code",
      "source": [
        "import pyspark\n",
        "from pyspark.sql import SparkSession"
      ],
      "metadata": {
        "id": "vfLDDE-KPcsr"
      },
      "execution_count": null,
      "outputs": []
    },
    {
      "cell_type": "code",
      "source": [
        "spark=SparkSession.builder.appName(\"classification\").getOrCreate()"
      ],
      "metadata": {
        "id": "NmlXEmnmPxHz"
      },
      "execution_count": null,
      "outputs": []
    },
    {
      "cell_type": "code",
      "source": [
        "hrdata=spark.read.csv(\"/content/drive/MyDrive/HR Analytics/train_LZdllcl.csv\",\n",
        "                      inferSchema=True,header=True)"
      ],
      "metadata": {
        "id": "kVj2PmkPP755"
      },
      "execution_count": null,
      "outputs": []
    },
    {
      "cell_type": "code",
      "source": [
        "hrdata.groupBy('education').count().show()"
      ],
      "metadata": {
        "colab": {
          "base_uri": "https://localhost:8080/"
        },
        "id": "oEHwzyUoQK5W",
        "outputId": "b5be7b79-75c0-423c-e283-6a8b255df1f7"
      },
      "execution_count": null,
      "outputs": [
        {
          "output_type": "stream",
          "name": "stdout",
          "text": [
            "+----------------+-----+\n",
            "|       education|count|\n",
            "+----------------+-----+\n",
            "| Below Secondary|  805|\n",
            "|Master's & above|14925|\n",
            "|      Bachelor's|39078|\n",
            "+----------------+-----+\n",
            "\n"
          ]
        }
      ]
    },
    {
      "cell_type": "code",
      "source": [
        "hrdata=hrdata.na.fill(value=\"Bachelor's\",subset=['education'])"
      ],
      "metadata": {
        "id": "iB3qXhUKQRJ6"
      },
      "execution_count": null,
      "outputs": []
    },
    {
      "cell_type": "code",
      "source": [
        "hrdata.groupBy('previous_year_rating').count().show()"
      ],
      "metadata": {
        "colab": {
          "base_uri": "https://localhost:8080/"
        },
        "id": "gqw5dZmGRlq3",
        "outputId": "5daed99b-0528-4919-e05d-5a2613645505"
      },
      "execution_count": null,
      "outputs": [
        {
          "output_type": "stream",
          "name": "stdout",
          "text": [
            "+--------------------+-----+\n",
            "|previous_year_rating|count|\n",
            "+--------------------+-----+\n",
            "|                   1| 6223|\n",
            "|                   3|22742|\n",
            "|                   5|11741|\n",
            "|                   4| 9877|\n",
            "|                   2| 4225|\n",
            "+--------------------+-----+\n",
            "\n"
          ]
        }
      ]
    },
    {
      "cell_type": "code",
      "source": [
        "hrdata=hrdata.na.fill(value=3,subset=['previous_year_rating'])"
      ],
      "metadata": {
        "id": "WKhJbKJKRt7w"
      },
      "execution_count": null,
      "outputs": []
    },
    {
      "cell_type": "code",
      "source": [
        "hrdata.columns"
      ],
      "metadata": {
        "colab": {
          "base_uri": "https://localhost:8080/"
        },
        "id": "ClN0iL_BR662",
        "outputId": "2768d163-4625-41e1-c77c-d44f850c5c6b"
      },
      "execution_count": null,
      "outputs": [
        {
          "output_type": "execute_result",
          "data": {
            "text/plain": [
              "['employee_id',\n",
              " 'department',\n",
              " 'region',\n",
              " 'education',\n",
              " 'gender',\n",
              " 'recruitment_channel',\n",
              " 'no_of_trainings',\n",
              " 'age',\n",
              " 'previous_year_rating',\n",
              " 'length_of_service',\n",
              " 'KPIs_met >80%',\n",
              " 'awards_won?',\n",
              " 'avg_training_score',\n",
              " 'is_promoted']"
            ]
          },
          "metadata": {},
          "execution_count": 13
        }
      ]
    },
    {
      "cell_type": "code",
      "source": [
        "from pyspark.ml.feature import StringIndexer\n",
        "from pyspark.ml import Pipeline"
      ],
      "metadata": {
        "id": "clZaixoiTNoO"
      },
      "execution_count": null,
      "outputs": []
    },
    {
      "cell_type": "code",
      "source": [
        "indexer=[StringIndexer(inputCol=col,outputCol=col+\"index\").fit(hrdata)\n",
        "for col in list(set(hrdata.columns)-set(['no_of_trainings','age',\n",
        "                                         'length_of_service',\n",
        "                                         'avg_training_score','employee_id']))]"
      ],
      "metadata": {
        "id": "LYTiKj7eTVBn"
      },
      "execution_count": null,
      "outputs": []
    },
    {
      "cell_type": "code",
      "source": [
        "pipeline=Pipeline(stages=indexer)"
      ],
      "metadata": {
        "id": "CZ3Ew2pIUIin"
      },
      "execution_count": null,
      "outputs": []
    },
    {
      "cell_type": "code",
      "source": [
        "hrdatadf=pipeline.fit(hrdata).transform(hrdata)"
      ],
      "metadata": {
        "id": "aMqlTci0USez"
      },
      "execution_count": null,
      "outputs": []
    },
    {
      "cell_type": "code",
      "source": [
        "hrdatadf.columns"
      ],
      "metadata": {
        "colab": {
          "base_uri": "https://localhost:8080/"
        },
        "id": "5gBaB85EUgvF",
        "outputId": "f44fdd73-c212-422f-ee40-001af69ecdff"
      },
      "execution_count": null,
      "outputs": [
        {
          "output_type": "execute_result",
          "data": {
            "text/plain": [
              "['employee_id',\n",
              " 'department',\n",
              " 'no_of_trainings',\n",
              " 'age',\n",
              " 'length_of_service',\n",
              " 'avg_training_score',\n",
              " 'genderindex',\n",
              " 'is_promotedindex',\n",
              " 'KPIs_met >80%index',\n",
              " 'awards_won?index',\n",
              " 'educationindex',\n",
              " 'recruitment_channelindex',\n",
              " 'departmentindex',\n",
              " 'regionindex',\n",
              " 'previous_year_ratingindex',\n",
              " 'features',\n",
              " 'label']"
            ]
          },
          "metadata": {},
          "execution_count": 62
        }
      ]
    },
    {
      "cell_type": "code",
      "source": [
        "columnstodrop=['employee_id''department','region','education','gender',\n",
        "               'recruitment_channel','previous_year_rating','KPIs_met >80%',\n",
        "               'awards_won?','is_promoted']"
      ],
      "metadata": {
        "id": "hJwQ2NEFVRA7"
      },
      "execution_count": null,
      "outputs": []
    },
    {
      "cell_type": "code",
      "source": [
        "hrdatadf=hrdatadf.drop(*columnstodrop)"
      ],
      "metadata": {
        "id": "AzHNQFJoVnJ3"
      },
      "execution_count": null,
      "outputs": []
    },
    {
      "cell_type": "code",
      "source": [
        "from pyspark.ml.feature import RFormula"
      ],
      "metadata": {
        "id": "2OSI0YW8XaUI"
      },
      "execution_count": null,
      "outputs": []
    },
    {
      "cell_type": "code",
      "source": [
        "formula=RFormula(formula=\"is_promotedindex~.\",featuresCol='features',\n",
        "                 labelCol='label')"
      ],
      "metadata": {
        "id": "9htTy7f1Xgr2"
      },
      "execution_count": null,
      "outputs": []
    },
    {
      "cell_type": "code",
      "source": [
        "hrdatadf=formula.fit(hrdatadf).transform(hrdatadf)"
      ],
      "metadata": {
        "id": "9W5xVHz6Xxpd"
      },
      "execution_count": null,
      "outputs": []
    },
    {
      "cell_type": "code",
      "source": [
        "from pyspark.ml.classification import LogisticRegression\n",
        "from pyspark.ml.evaluation import MulticlassClassificationEvaluator,BinaryClassificationEvaluator"
      ],
      "metadata": {
        "id": "xjzIbAgIX7Qf"
      },
      "execution_count": null,
      "outputs": []
    },
    {
      "cell_type": "code",
      "source": [
        "logit=LogisticRegression()"
      ],
      "metadata": {
        "id": "Ugiiua9MZlCu"
      },
      "execution_count": null,
      "outputs": []
    },
    {
      "cell_type": "code",
      "source": [
        "logitmodel=logit.fit(hrdatadf)"
      ],
      "metadata": {
        "id": "F-paMfyXZqQE"
      },
      "execution_count": null,
      "outputs": []
    },
    {
      "cell_type": "code",
      "source": [
        "logitmodel.summary.accuracy"
      ],
      "metadata": {
        "colab": {
          "base_uri": "https://localhost:8080/"
        },
        "id": "Ey7FIQhgZts6",
        "outputId": "f4b31b52-9e6e-410e-9413-bc6fd764c9b8"
      },
      "execution_count": null,
      "outputs": [
        {
          "output_type": "execute_result",
          "data": {
            "text/plain": [
              "0.9325098525762663"
            ]
          },
          "metadata": {},
          "execution_count": 55
        }
      ]
    },
    {
      "cell_type": "code",
      "source": [
        "logitmodel.summary.areaUnderROC"
      ],
      "metadata": {
        "colab": {
          "base_uri": "https://localhost:8080/"
        },
        "id": "Rw-fH_TYbjuZ",
        "outputId": "e7278698-8c5f-4264-bbbe-c1f52eea40fe"
      },
      "execution_count": null,
      "outputs": [
        {
          "output_type": "execute_result",
          "data": {
            "text/plain": [
              "0.8683283464397373"
            ]
          },
          "metadata": {},
          "execution_count": 56
        }
      ]
    },
    {
      "cell_type": "code",
      "source": [
        "accuracy=MulticlassClassificationEvaluator(metricName=\"accuracy\")"
      ],
      "metadata": {
        "id": "xzamcpVPaB45"
      },
      "execution_count": null,
      "outputs": []
    },
    {
      "cell_type": "code",
      "source": [
        "auc=BinaryClassificationEvaluator()"
      ],
      "metadata": {
        "id": "SxnDQfojbPLK"
      },
      "execution_count": null,
      "outputs": []
    },
    {
      "cell_type": "code",
      "source": [
        "from pyspark.ml.classification import DecisionTreeClassifier"
      ],
      "metadata": {
        "id": "ww5hhsyUbxvt"
      },
      "execution_count": null,
      "outputs": []
    },
    {
      "cell_type": "code",
      "source": [
        "tree=DecisionTreeClassifier(maxBins=35)"
      ],
      "metadata": {
        "id": "JNMzhFlgcI4V"
      },
      "execution_count": null,
      "outputs": []
    },
    {
      "cell_type": "code",
      "source": [
        "treemodel=tree.fit(hrdatadf)"
      ],
      "metadata": {
        "id": "MBR2VxvjcMtf"
      },
      "execution_count": null,
      "outputs": []
    },
    {
      "cell_type": "code",
      "source": [
        "treepredict=treemodel.transform(hrdatadf)"
      ],
      "metadata": {
        "id": "P0bAG0-HcQzJ"
      },
      "execution_count": null,
      "outputs": []
    },
    {
      "cell_type": "code",
      "source": [
        "accuracy.evaluate(treepredict)"
      ],
      "metadata": {
        "colab": {
          "base_uri": "https://localhost:8080/"
        },
        "id": "AnB3IvHAdQUx",
        "outputId": "981615da-e910-4eb6-ed4f-dda3303119a4"
      },
      "execution_count": null,
      "outputs": [
        {
          "output_type": "execute_result",
          "data": {
            "text/plain": [
              "0.9261786600496278"
            ]
          },
          "metadata": {},
          "execution_count": 69
        }
      ]
    },
    {
      "cell_type": "code",
      "source": [
        "auc.evaluate(treepredict)"
      ],
      "metadata": {
        "colab": {
          "base_uri": "https://localhost:8080/"
        },
        "id": "HTEcEhfWdUHM",
        "outputId": "8f0c16e2-98d6-44db-f916-f509be1b209f"
      },
      "execution_count": null,
      "outputs": [
        {
          "output_type": "execute_result",
          "data": {
            "text/plain": [
              "0.5785816850778404"
            ]
          },
          "metadata": {},
          "execution_count": 70
        }
      ]
    },
    {
      "cell_type": "code",
      "source": [
        "from pyspark.ml.classification import RandomForestClassifier"
      ],
      "metadata": {
        "id": "ZM6VmZiUdcr3"
      },
      "execution_count": null,
      "outputs": []
    },
    {
      "cell_type": "code",
      "source": [
        "RF=RandomForestClassifier(maxBins=35)"
      ],
      "metadata": {
        "id": "7wzAuLS2eJZG"
      },
      "execution_count": null,
      "outputs": []
    },
    {
      "cell_type": "code",
      "source": [
        "RFmodel=RF.fit(hrdatadf)"
      ],
      "metadata": {
        "id": "kpMvjIYHeNhX"
      },
      "execution_count": null,
      "outputs": []
    },
    {
      "cell_type": "code",
      "source": [
        "RFpredict=RFmodel.transform(hrdatadf)"
      ],
      "metadata": {
        "id": "zVal3tq_eQ41"
      },
      "execution_count": null,
      "outputs": []
    },
    {
      "cell_type": "code",
      "source": [
        "accuracy.evaluate(RFpredict)"
      ],
      "metadata": {
        "colab": {
          "base_uri": "https://localhost:8080/"
        },
        "id": "HJcHUyrveaLi",
        "outputId": "ab42864a-fd1f-4f18-cf66-acfb53be5c34"
      },
      "execution_count": null,
      "outputs": [
        {
          "output_type": "execute_result",
          "data": {
            "text/plain": [
              "0.9237520070062765"
            ]
          },
          "metadata": {},
          "execution_count": 75
        }
      ]
    },
    {
      "cell_type": "code",
      "source": [
        "auc.evaluate(RFpredict)"
      ],
      "metadata": {
        "colab": {
          "base_uri": "https://localhost:8080/"
        },
        "id": "_Tvpyf4neeRt",
        "outputId": "fc75a9ca-2b10-408a-89c9-1e06e5c8e097"
      },
      "execution_count": null,
      "outputs": [
        {
          "output_type": "execute_result",
          "data": {
            "text/plain": [
              "0.8557354168397036"
            ]
          },
          "metadata": {},
          "execution_count": 76
        }
      ]
    },
    {
      "cell_type": "code",
      "source": [
        "from pyspark.ml.classification import GBTClassifier"
      ],
      "metadata": {
        "id": "vM6Gf12Ieibb"
      },
      "execution_count": null,
      "outputs": []
    },
    {
      "cell_type": "code",
      "source": [
        "gbm=GBTClassifier(maxBins=35)"
      ],
      "metadata": {
        "id": "qvQ7xR25fJ8A"
      },
      "execution_count": null,
      "outputs": []
    },
    {
      "cell_type": "code",
      "source": [
        "gbmmodel=gbm.fit(hrdatadf)"
      ],
      "metadata": {
        "id": "UM6s5OHwfWmL"
      },
      "execution_count": null,
      "outputs": []
    },
    {
      "cell_type": "code",
      "source": [
        "gbmpredict=gbmmodel.transform(hrdatadf)"
      ],
      "metadata": {
        "id": "cnHmIVTafZpB"
      },
      "execution_count": null,
      "outputs": []
    },
    {
      "cell_type": "code",
      "source": [
        "accuracy.evaluate(gbmpredict)"
      ],
      "metadata": {
        "colab": {
          "base_uri": "https://localhost:8080/"
        },
        "id": "jn4knYU3fpYr",
        "outputId": "96443b1a-c524-4c3e-cdc0-417f1eb836be"
      },
      "execution_count": null,
      "outputs": [
        {
          "output_type": "execute_result",
          "data": {
            "text/plain": [
              "0.9419245365640052"
            ]
          },
          "metadata": {},
          "execution_count": 81
        }
      ]
    },
    {
      "cell_type": "code",
      "source": [
        "auc.evaluate(gbmpredict)"
      ],
      "metadata": {
        "colab": {
          "base_uri": "https://localhost:8080/"
        },
        "id": "lEUp8CDFftR3",
        "outputId": "fdc464ee-a580-45d9-a299-76bf13c14d5f"
      },
      "execution_count": null,
      "outputs": [
        {
          "output_type": "execute_result",
          "data": {
            "text/plain": [
              "0.9169767944528242"
            ]
          },
          "metadata": {},
          "execution_count": 82
        }
      ]
    },
    {
      "cell_type": "code",
      "source": [
        "from pyspark.ml.classification import MultilayerPerceptronClassifier"
      ],
      "metadata": {
        "id": "vOPOsG9rfxHI"
      },
      "execution_count": null,
      "outputs": []
    },
    {
      "cell_type": "code",
      "source": [
        "nn=MultilayerPerceptronClassifier(layers=[11,100,2])\n",
        "# 11 - input , hidden layer 1 with 100 neurons and output layer 2"
      ],
      "metadata": {
        "id": "qVebYta5gdR_"
      },
      "execution_count": null,
      "outputs": []
    },
    {
      "cell_type": "code",
      "source": [
        "import os\n",
        "import sys\n",
        "\n",
        "os.environ['PYSPARK_PYTHON'] = sys.executable\n",
        "os.environ['PYSPARK_DRIVER_PYTHON'] = sys.executable"
      ],
      "metadata": {
        "id": "aqkNIalriDs8"
      },
      "execution_count": null,
      "outputs": []
    },
    {
      "cell_type": "code",
      "source": [
        "nnmodel=nn.fit(hrdatadf)"
      ],
      "metadata": {
        "id": "_IeuhngPgqLG"
      },
      "execution_count": null,
      "outputs": []
    },
    {
      "cell_type": "code",
      "source": [
        "nnpredict=nnmodel.transform(hrdatadf)"
      ],
      "metadata": {
        "id": "Y0g4j0LKgtQW"
      },
      "execution_count": null,
      "outputs": []
    },
    {
      "cell_type": "code",
      "source": [],
      "metadata": {
        "id": "zhg9qrjFhIkf"
      },
      "execution_count": null,
      "outputs": []
    }
  ]
}